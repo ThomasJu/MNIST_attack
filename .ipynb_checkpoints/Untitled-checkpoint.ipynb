{
 "cells": [
  {
   "cell_type": "markdown",
   "metadata": {},
   "source": [
    "## MNIST Attack"
   ]
  },
  {
   "cell_type": "code",
   "execution_count": 23,
   "metadata": {},
   "outputs": [],
   "source": [
    "%load_ext autoreload\n",
    "%autoreload 2\n",
    "import torch\n",
    "import torch.nn as nn\n",
    "import torchvision\n",
    "import matplotlib.pyplot as plt"
   ]
  },
  {
   "cell_type": "code",
   "execution_count": 16,
   "metadata": {},
   "outputs": [],
   "source": [
    "EPOCH = 50               #全部data訓練10次\n",
    "BATCH_SIZE = 50           #每次訓練隨機丟50張圖像進去\n",
    "lr = 0.01                 #learning rate\n",
    "wd = 0.001\n",
    "DOWNLOAD_MNIST = True    #第一次用要先下載data,所以是True\n",
    "if_use_gpu = False            #使用gpu"
   ]
  },
  {
   "cell_type": "markdown",
   "metadata": {},
   "source": [
    "### Download MNIST"
   ]
  },
  {
   "cell_type": "markdown",
   "metadata": {},
   "source": [
    "### Train"
   ]
  },
  {
   "cell_type": "code",
   "execution_count": 3,
   "metadata": {},
   "outputs": [],
   "source": [
    "train_data = torchvision.datasets.MNIST(\n",
    "    root='./mnist',\n",
    "    train=True,\n",
    "    transform=torchvision.transforms.ToTensor(), \n",
    "    download=DOWNLOAD_MNIST,\n",
    ")"
   ]
  },
  {
   "cell_type": "code",
   "execution_count": 4,
   "metadata": {},
   "outputs": [
    {
     "name": "stdout",
     "output_type": "stream",
     "text": [
      "torch.Size([60000, 28, 28])\n",
      "torch.Size([60000])\n"
     ]
    }
   ],
   "source": [
    "print(train_data.data.size())\n",
    "print(train_data.targets.size())"
   ]
  },
  {
   "cell_type": "code",
   "execution_count": 5,
   "metadata": {},
   "outputs": [
    {
     "data": {
      "image/png": "[encoded data removed]",
      "text/plain": [
       "<Figure size 432x288 with 1 Axes>"
      ]
     },
     "metadata": {
      "needs_background": "light"
     },
     "output_type": "display_data"
    }
   ],
   "source": [
    "plt.imshow(train_data.data[0].numpy(),cmap='gray')\n",
    "plt.title('%i' % train_data.targets[0])\n",
    "plt.show()"
   ]
  },
  {
   "cell_type": "markdown",
   "metadata": {},
   "source": [
    "### Test"
   ]
  },
  {
   "cell_type": "code",
   "execution_count": 6,
   "metadata": {},
   "outputs": [],
   "source": [
    "test_data = torchvision.datasets.MNIST(\n",
    "    root='./mnist/', \n",
    "    train=False,\n",
    "    transform=torchvision.transforms.ToTensor(),\n",
    "    download=DOWNLOAD_MNIST,\n",
    "    )"
   ]
  },
  {
   "cell_type": "markdown",
   "metadata": {},
   "source": [
    "## Train a model to classify mnist"
   ]
  },
  {
   "cell_type": "code",
   "execution_count": 30,
   "metadata": {},
   "outputs": [],
   "source": [
    "from model import CNN\n",
    "from train import train_model"
   ]
  },
  {
   "cell_type": "code",
   "execution_count": 31,
   "metadata": {},
   "outputs": [],
   "source": [
    "train, val = torch.utils.data.random_split(train_data, [50000, 10000], generator=torch.Generator().manual_seed(42))\n",
    "trn_loader = torch.utils.data.DataLoader(dataset = train, batch_size = BATCH_SIZE, shuffle=True)\n",
    "val_loader = torch.utils.data.DataLoader(dataset = val, batch_size = BATCH_SIZE, shuffle=True)"
   ]
  },
  {
   "cell_type": "code",
   "execution_count": 80,
   "metadata": {},
   "outputs": [
    {
     "name": "stderr",
     "output_type": "stream",
     "text": [
      "/home/yuanping/.local/lib/python3.6/site-packages/torch/nn/modules/lazy.py:175: UserWarning: Lazy modules are a new feature under heavy development so changes to the API or functionality can happen at any moment.\n",
      "  warnings.warn('Lazy modules are a new feature under heavy development '\n"
     ]
    }
   ],
   "source": [
    "net = CNN()\n",
    "net = nn.Sequential(\n",
    "          nn.Flatten(start_dim=1),\n",
    "          nn.LazyLinear(256, bias=False),\n",
    "          nn.dropout(0.25),\n",
    "          nn.ReLU(),\n",
    "          nn.LazyLinear(128, bias=False),\n",
    "          nn.dropout(0.25),\n",
    "          nn.ReLU(),\n",
    "          nn.LazyLinear(64, bias=False),\n",
    "          nn.dropout(0.25),\n",
    "          nn.ReLU(),\n",
    "          nn.LazyLinear(10, bias=False),\n",
    "          nn.dropout(0.25),\n",
    "          nn.Softmax(),\n",
    "        )"
   ]
  },
  {
   "cell_type": "code",
   "execution_count": null,
   "metadata": {},
   "outputs": [
    {
     "name": "stdout",
     "output_type": "stream",
     "text": [
      "------------------------ Start Training ------------------------\n"
     ]
    },
    {
     "name": "stderr",
     "output_type": "stream",
     "text": [
      "/home/yuanping/.local/lib/python3.6/site-packages/torch/nn/modules/container.py:119: UserWarning: Implicit dimension choice for softmax has been deprecated. Change the call to include dim=X as an argument.\n",
      "  input = module(input)\n"
     ]
    },
    {
     "name": "stdout",
     "output_type": "stream",
     "text": [
      "Epoch No. 1--Iteration No. 1000-- batch loss = 1.6529-- train accuracy = 0.8200\n",
      "Validation weighted macro F-1: 0.8727 accuracy: 0.8600\n",
      "Epoch No. 2--Iteration No. 2000-- batch loss = 1.6234-- train accuracy = 0.8400\n",
      "Validation weighted macro F-1: 0.9041 accuracy: 0.8959\n",
      "Epoch No. 3--Iteration No. 3000-- batch loss = 1.5410-- train accuracy = 0.9200\n",
      "Validation weighted macro F-1: 0.9056 accuracy: 0.9052\n",
      "Epoch No. 4--Iteration No. 4000-- batch loss = 1.6143-- train accuracy = 0.8400\n",
      "Validation weighted macro F-1: 0.9008 accuracy: 0.8762\n",
      "Epoch No. 5--Iteration No. 5000-- batch loss = 1.5276-- train accuracy = 0.9600\n",
      "Validation weighted macro F-1: 0.9128 accuracy: 0.9084\n",
      "Epoch No. 6--Iteration No. 6000-- batch loss = 1.5073-- train accuracy = 0.9600\n",
      "Validation weighted macro F-1: 0.9098 accuracy: 0.8990\n",
      "Epoch No. 7--Iteration No. 7000-- batch loss = 1.5068-- train accuracy = 0.9600\n",
      "Validation weighted macro F-1: 0.9114 accuracy: 0.9037\n",
      "Epoch No. 8--Iteration No. 8000-- batch loss = 1.5448-- train accuracy = 0.9200\n",
      "Validation weighted macro F-1: 0.9118 accuracy: 0.8991\n",
      "Epoch No. 9--Iteration No. 9000-- batch loss = 1.5372-- train accuracy = 0.9200\n",
      "Validation weighted macro F-1: 0.9060 accuracy: 0.9024\n",
      "Epoch No. 10--Iteration No. 10000-- batch loss = 1.5607-- train accuracy = 0.9000\n",
      "Validation weighted macro F-1: 0.9022 accuracy: 0.9000\n",
      "Epoch No. 11--Iteration No. 11000-- batch loss = 1.5720-- train accuracy = 0.8800\n",
      "Validation weighted macro F-1: 0.9174 accuracy: 0.9117\n",
      "Epoch No. 12--Iteration No. 12000-- batch loss = 1.6275-- train accuracy = 0.8200\n",
      "Validation weighted macro F-1: 0.8656 accuracy: 0.8628\n",
      "Epoch No. 13--Iteration No. 13000-- batch loss = 1.6141-- train accuracy = 0.8200\n",
      "Validation weighted macro F-1: 0.9093 accuracy: 0.8988\n",
      "Epoch No. 14--Iteration No. 14000-- batch loss = 1.5519-- train accuracy = 0.9200\n",
      "Validation weighted macro F-1: 0.9042 accuracy: 0.8945\n",
      "Epoch No. 15--Iteration No. 15000-- batch loss = 1.5158-- train accuracy = 0.9400\n",
      "Validation weighted macro F-1: 0.9202 accuracy: 0.9151\n"
     ]
    }
   ],
   "source": [
    "optim = torch.optim.Adam(net.parameters(), lr=lr, weight_decay=wd, num_epoch=10)\n",
    "train_model(net, trn_loader, val_loader, optim)"
   ]
  },
  {
   "cell_type": "code",
   "execution_count": null,
   "metadata": {},
   "outputs": [],
   "source": []
  },
  {
   "cell_type": "code",
   "execution_count": null,
   "metadata": {},
   "outputs": [],
   "source": []
  }
 ],
 "metadata": {
  "kernelspec": {
   "display_name": "Python 3",
   "language": "python",
   "name": "python3"
  },
  "language_info": {
   "codemirror_mode": {
    "name": "ipython",
    "version": 3
   },
   "file_extension": ".py",
   "mimetype": "text/x-python",
   "name": "python",
   "nbconvert_exporter": "python",
   "pygments_lexer": "ipython3",
   "version": "3.6.9"
  }
 },
 "nbformat": 4,
 "nbformat_minor": 4
}
