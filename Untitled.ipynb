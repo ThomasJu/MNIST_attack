{
 "cells": [
  {
   "cell_type": "markdown",
   "metadata": {},
   "source": [
    "## MNIST Attack"
   ]
  },
  {
   "cell_type": "code",
   "execution_count": 23,
   "metadata": {},
   "outputs": [],
   "source": [
    "%load_ext autoreload\n",
    "%autoreload 2\n",
    "import torch\n",
    "import torch.nn as nn\n",
    "import torchvision\n",
    "import matplotlib.pyplot as plt"
   ]
  },
  {
   "cell_type": "code",
   "execution_count": 16,
   "metadata": {},
   "outputs": [],
   "source": [
    "EPOCH = 50               #全部data訓練10次\n",
    "BATCH_SIZE = 50           #每次訓練隨機丟50張圖像進去\n",
    "lr = 0.01                 #learning rate\n",
    "wd = 0.001\n",
    "DOWNLOAD_MNIST = True    #第一次用要先下載data,所以是True\n",
    "if_use_gpu = False            #使用gpu"
   ]
  },
  {
   "cell_type": "markdown",
   "metadata": {},
   "source": [
    "### Download MNIST"
   ]
  },
  {
   "cell_type": "markdown",
   "metadata": {},
   "source": [
    "### Train"
   ]
  },
  {
   "cell_type": "code",
   "execution_count": 3,
   "metadata": {},
   "outputs": [],
   "source": [
    "train_data = torchvision.datasets.MNIST(\n",
    "    root='./mnist',\n",
    "    train=True,\n",
    "    transform=torchvision.transforms.ToTensor(), \n",
    "    download=DOWNLOAD_MNIST,\n",
    ")"
   ]
  },
  {
   "cell_type": "code",
   "execution_count": 4,
   "metadata": {},
   "outputs": [
    {
     "name": "stdout",
     "output_type": "stream",
     "text": [
      "torch.Size([60000, 28, 28])\n",
      "torch.Size([60000])\n"
     ]
    }
   ],
   "source": [
    "print(train_data.data.size())\n",
    "print(train_data.targets.size())"
   ]
  },
  {
   "cell_type": "code",
   "execution_count": 5,
   "metadata": {},
   "outputs": [
    {
     "data": {
      "image/png": "[encoded data removed]",
      "text/plain": [
       "<Figure size 432x288 with 1 Axes>"
      ]
     },
     "metadata": {
      "needs_background": "light"
     },
     "output_type": "display_data"
    }
   ],
   "source": [
    "plt.imshow(train_data.data[0].numpy(),cmap='gray')\n",
    "plt.title('%i' % train_data.targets[0])\n",
    "plt.show()"
   ]
  },
  {
   "cell_type": "markdown",
   "metadata": {},
   "source": [
    "### Test"
   ]
  },
  {
   "cell_type": "code",
   "execution_count": 6,
   "metadata": {},
   "outputs": [],
   "source": [
    "test_data = torchvision.datasets.MNIST(\n",
    "    root='./mnist/', \n",
    "    train=False,\n",
    "    transform=torchvision.transforms.ToTensor(),\n",
    "    download=DOWNLOAD_MNIST,\n",
    "    )"
   ]
  },
  {
   "cell_type": "markdown",
   "metadata": {},
   "source": [
    "## Train a model to classify mnist"
   ]
  },
  {
   "cell_type": "code",
   "execution_count": 124,
   "metadata": {},
   "outputs": [],
   "source": [
    "from model import CNN\n",
    "from train import train_model"
   ]
  },
  {
   "cell_type": "code",
   "execution_count": 125,
   "metadata": {},
   "outputs": [],
   "source": [
    "train, val = torch.utils.data.random_split(train_data, [50000, 10000], generator=torch.Generator().manual_seed(42))\n",
    "trn_loader = torch.utils.data.DataLoader(dataset = train, batch_size = BATCH_SIZE, shuffle=True)\n",
    "val_loader = torch.utils.data.DataLoader(dataset = val, batch_size = BATCH_SIZE, shuffle=True)"
   ]
  },
  {
   "cell_type": "code",
   "execution_count": 131,
   "metadata": {},
   "outputs": [
    {
     "name": "stderr",
     "output_type": "stream",
     "text": [
      "/home/yuanping/.local/lib/python3.6/site-packages/torch/nn/modules/lazy.py:175: UserWarning: Lazy modules are a new feature under heavy development so changes to the API or functionality can happen at any moment.\n",
      "  warnings.warn('Lazy modules are a new feature under heavy development '\n"
     ]
    }
   ],
   "source": [
    "net = CNN()"
   ]
  },
  {
   "cell_type": "code",
   "execution_count": null,
   "metadata": {},
   "outputs": [
    {
     "name": "stderr",
     "output_type": "stream",
     "text": [
      "/mnt/c/Users/thoma/Desktop/MNIST attack/model.py:30: UserWarning: Implicit dimension choice for softmax has been deprecated. Change the call to include dim=X as an argument.\n",
      "  x = F.softmax(self.l8(x))\n"
     ]
    },
    {
     "name": "stdout",
     "output_type": "stream",
     "text": [
      "Training lasted 21.41 minutes\n",
      "best_acc: 0.9031\n",
      "------------------------ Training Done ------------------------\n",
      "Training lasted 17.46 minutes\n",
      "best_acc: 0.8755\n",
      "------------------------ Training Done ------------------------\n",
      "Training lasted 16.49 minutes\n",
      "best_acc: 0.1\n",
      "------------------------ Training Done ------------------------\n",
      "Training lasted 17.21 minutes\n",
      "best_acc: 0.2516\n",
      "------------------------ Training Done ------------------------\n",
      "Training lasted 19.11 minutes\n",
      "best_acc: 0.1535\n",
      "------------------------ Training Done ------------------------\n",
      "Training lasted 14.71 minutes\n",
      "best_acc: 0.1612\n",
      "------------------------ Training Done ------------------------\n",
      "Training lasted 11.74 minutes\n",
      "best_acc: 0.138\n",
      "------------------------ Training Done ------------------------\n",
      "Training lasted 13.78 minutes\n",
      "best_acc: 0.1626\n",
      "------------------------ Training Done ------------------------\n",
      "Training lasted 10.97 minutes\n",
      "best_acc: 0.153\n",
      "------------------------ Training Done ------------------------\n"
     ]
    }
   ],
   "source": [
    "lr = [0.01, 0.05, 0.1, 0.5, 1]\n",
    "wd = [0.001, 0.01, 0.1]\n",
    "for i in lr:\n",
    "    for j in wd: \n",
    "        optim = torch.optim.Adam(net.parameters(), lr=i, weight_decay=j)\n",
    "        train_model(net, trn_loader, val_loader, optim, num_epoch=50, verbose=False)"
   ]
  },
  {
   "cell_type": "code",
   "execution_count": null,
   "metadata": {},
   "outputs": [],
   "source": []
  }
 ],
 "metadata": {
  "kernelspec": {
   "display_name": "Python 3",
   "language": "python",
   "name": "python3"
  },
  "language_info": {
   "codemirror_mode": {
    "name": "ipython",
    "version": 3
   },
   "file_extension": ".py",
   "mimetype": "text/x-python",
   "name": "python",
   "nbconvert_exporter": "python",
   "pygments_lexer": "ipython3",
   "version": "3.6.9"
  }
 },
 "nbformat": 4,
 "nbformat_minor": 4
}
